{
 "metadata": {
  "language_info": {
   "codemirror_mode": {
    "name": "ipython",
    "version": 3
   },
   "file_extension": ".py",
   "mimetype": "text/x-python",
   "name": "python",
   "nbconvert_exporter": "python",
   "pygments_lexer": "ipython3",
   "version": "3.8.0-final"
  },
  "orig_nbformat": 2,
  "kernelspec": {
   "name": "python_defaultSpec_1600155397638",
   "display_name": "Python 3.8.5 32-bit"
  }
 },
 "nbformat": 4,
 "nbformat_minor": 2,
 "cells": [
  {
   "cell_type": "code",
   "execution_count": 2,
   "metadata": {},
   "outputs": [],
   "source": [
    "import requests\n",
    "from mypy import api\n",
    "\n",
    "def run_mypy(file_path):\n",
    "    print(api.run([file_path])[0])"
   ]
  },
  {
   "cell_type": "markdown",
   "metadata": {
    "tags": []
   },
   "source": [
    "<center> <h1>The magic of Typed Python</h1>\n",
    "<img src=\"https://media.giphy.com/media/E6jscXfv3AkWQ/giphy.gif\"><img src=\"https://media.giphy.com/media/ws0sZhwes8l1K/giphy.gif\"></center>"
   ]
  },
  {
   "cell_type": "markdown",
   "metadata": {},
   "source": [
    "## What is type annotation?"
   ]
  },
  {
   "cell_type": "code",
   "execution_count": 41,
   "metadata": {},
   "outputs": [],
   "source": [
    "from helper import swap\n",
    "def weird_thing(arg):\n",
    "    build = {}\n",
    "    for key, value in arg.items():\n",
    "        build = {}\n",
    "        build[key.upper()] = value.lower()\n",
    "    return swap(build)\n"
   ]
  },
  {
   "cell_type": "markdown",
   "metadata": {},
   "source": [
    "# What??\n",
    "\n",
    "```2: def weird_thing(arg)``` -> <h3> What is **arg**?</h3>\n",
    "\n",
    "```6: return swap(build)``` -> <h3> What returned?</h3>"
   ]
  },
  {
   "cell_type": "markdown",
   "metadata": {},
   "source": [
    "## Is docstring is enough?"
   ]
  },
  {
   "cell_type": "code",
   "execution_count": null,
   "metadata": {},
   "outputs": [],
   "source": [
    "from helper import swap\n",
    "def weird_thing(arg):\n",
    "    \"\"\"Get a dict and tranform its keys to upper and value lower. Then swapping key with values them.\n",
    "\n",
    "    Arguments:\n",
    "        arg: A dictionary to transform.\n",
    "    \n",
    "    Returns:\n",
    "        swapped dict with former keys to upper and values to lower.\n",
    "    \"\"\"\n",
    "    build = {}\n",
    "    for key, value in arg.items():\n",
    "        build[key.upper()] = value.lower()\n",
    "    return swap(build)"
   ]
  },
  {
   "cell_type": "markdown",
   "metadata": {},
   "source": [
    "# IS THAT ENOUGH?!?!?!\n",
    "![](https://media.giphy.com/media/YQk8nXloVftzW/giphy.gif)"
   ]
  },
  {
   "cell_type": "markdown",
   "metadata": {},
   "source": [
    "## So what should we do?\n",
    "\n",
    "# REMOVE THE DOCTEST\n",
    "\n",
    "\n",
    "\n",
    "\n",
    "\n",
    "![](https://media.giphy.com/media/PkoZpdQllFpXwJX6Tp/giphy.gif)"
   ]
  },
  {
   "cell_type": "code",
   "execution_count": 2,
   "metadata": {},
   "outputs": [],
   "source": [
    "from typing import Dict\n",
    "from helper import swap\n",
    "def weird_thing(arg: Dict[str, str]) -> Dict:\n",
    "    \"\"\"Get a dict and tranform its keys to upper and value lower. Then swapping key with values them.\n",
    "\n",
    "    Arguments:\n",
    "        arg: A dictionary to transform.\n",
    "    \n",
    "    Returns:\n",
    "        swapped dict with former keys to upper and values to lower.\n",
    "    \"\"\"\n",
    "    build = {}\n",
    "    for key, value in arg.items():\n",
    "        build[key.upper()] = value.lower()\n",
    "    return swap(build)"
   ]
  },
  {
   "cell_type": "markdown",
   "metadata": {},
   "source": [
    "## Cool! what does python do with that information?\n",
    "### Well, lets see!"
   ]
  },
  {
   "cell_type": "code",
   "execution_count": 5,
   "metadata": {
    "tags": []
   },
   "outputs": [
    {
     "output_type": "stream",
     "name": "stdout",
     "text": "{'arbel': 'DEAN', 'orhov': 'YANA', 'hochman': 'BAR', '1': 'NUMBER??'}\n"
    }
   ],
   "source": [
    "dct = {\n",
    "    'Dean': 'Arbel',\n",
    "    'Yana': 'Orhov',\n",
    "    'Bar': 'Hochman',\n",
    "    'Number??': '1'\n",
    "}\n",
    "print(weird_thing(dct))"
   ]
  },
  {
   "cell_type": "markdown",
   "metadata": {},
   "source": [
    "The dict is valid. what happens if it's not valid?"
   ]
  },
  {
   "cell_type": "code",
   "execution_count": 6,
   "metadata": {},
   "outputs": [
    {
     "output_type": "error",
     "ename": "AttributeError",
     "evalue": "'int' object has no attribute 'lower'",
     "traceback": [
      "\u001b[0;31m---------------------------------------------------------------------------\u001b[0m",
      "\u001b[0;31mAttributeError\u001b[0m                            Traceback (most recent call last)",
      "\u001b[0;32m<ipython-input-6-d5ce6d60b376>\u001b[0m in \u001b[0;36m<module>\u001b[0;34m\u001b[0m\n\u001b[1;32m      5\u001b[0m     \u001b[0;34m'Number??'\u001b[0m\u001b[0;34m:\u001b[0m \u001b[0;36m0\u001b[0m\u001b[0;34m\u001b[0m\u001b[0;34m\u001b[0m\u001b[0m\n\u001b[1;32m      6\u001b[0m }\n\u001b[0;32m----> 7\u001b[0;31m \u001b[0mprint\u001b[0m\u001b[0;34m(\u001b[0m\u001b[0mweird_thing\u001b[0m\u001b[0;34m(\u001b[0m\u001b[0mdct\u001b[0m\u001b[0;34m)\u001b[0m\u001b[0;34m)\u001b[0m\u001b[0;34m\u001b[0m\u001b[0;34m\u001b[0m\u001b[0m\n\u001b[0m",
      "\u001b[0;32m<ipython-input-2-88071b540756>\u001b[0m in \u001b[0;36mweird_thing\u001b[0;34m(arg)\u001b[0m\n\u001b[1;32m     12\u001b[0m     \u001b[0mbuild\u001b[0m \u001b[0;34m=\u001b[0m \u001b[0;34m{\u001b[0m\u001b[0;34m}\u001b[0m\u001b[0;34m\u001b[0m\u001b[0;34m\u001b[0m\u001b[0m\n\u001b[1;32m     13\u001b[0m     \u001b[0;32mfor\u001b[0m \u001b[0mkey\u001b[0m\u001b[0;34m,\u001b[0m \u001b[0mvalue\u001b[0m \u001b[0;32min\u001b[0m \u001b[0marg\u001b[0m\u001b[0;34m.\u001b[0m\u001b[0mitems\u001b[0m\u001b[0;34m(\u001b[0m\u001b[0;34m)\u001b[0m\u001b[0;34m:\u001b[0m\u001b[0;34m\u001b[0m\u001b[0;34m\u001b[0m\u001b[0m\n\u001b[0;32m---> 14\u001b[0;31m         \u001b[0mbuild\u001b[0m\u001b[0;34m[\u001b[0m\u001b[0mkey\u001b[0m\u001b[0;34m.\u001b[0m\u001b[0mupper\u001b[0m\u001b[0;34m(\u001b[0m\u001b[0;34m)\u001b[0m\u001b[0;34m]\u001b[0m \u001b[0;34m=\u001b[0m \u001b[0mvalue\u001b[0m\u001b[0;34m.\u001b[0m\u001b[0mlower\u001b[0m\u001b[0;34m(\u001b[0m\u001b[0;34m)\u001b[0m\u001b[0;34m\u001b[0m\u001b[0;34m\u001b[0m\u001b[0m\n\u001b[0m\u001b[1;32m     15\u001b[0m     \u001b[0;32mreturn\u001b[0m \u001b[0mswap\u001b[0m\u001b[0;34m(\u001b[0m\u001b[0mbuild\u001b[0m\u001b[0;34m)\u001b[0m\u001b[0;34m\u001b[0m\u001b[0;34m\u001b[0m\u001b[0m\n",
      "\u001b[0;31mAttributeError\u001b[0m: 'int' object has no attribute 'lower'"
     ]
    }
   ],
   "source": [
    "dct = {\n",
    "    'Dean': 'Arbel',\n",
    "    'Yana': 'Orhov',\n",
    "    'Bar': 'Hochman',\n",
    "    'Number??': 0\n",
    "}\n",
    "print(weird_thing(dct))"
   ]
  },
  {
   "cell_type": "markdown",
   "metadata": {},
   "source": [
    "So what python does with that problem?\n",
    "\n",
    "![](https://media.giphy.com/media/baPIkfAo0Iv5K/giphy.gif)"
   ]
  },
  {
   "cell_type": "markdown",
   "metadata": {},
   "source": [
    "## If no one validates it, who cares?\n",
    "\n",
    "# MYPY CARES\n",
    "![](https://camo.githubusercontent.com/68c7827eeb796f3a664f48f5657c04e65e04ae6e/687474703a2f2f6d7970792d6c616e672e6f72672f7374617469632f6d7970795f6c696768742e737667)"
   ]
  },
  {
   "cell_type": "code",
   "execution_count": 8,
   "metadata": {
    "tags": []
   },
   "outputs": [
    {
     "output_type": "stream",
     "name": "stdout",
     "text": "weird_thing.py:26: error: Argument 1 to \"weird_thing\" has incompatible type \"Dict[str, object]\"; expected \"Dict[str, str]\"\nFound 1 error in 1 file (checked 1 source file)\n\n"
    }
   ],
   "source": [
    "'''dct = {\n",
    "    'Dean': 'Arbel',\n",
    "    'Yana': 'Orhov',\n",
    "    'Bar': 'Hochman',\n",
    "    'Number??': 0\n",
    "}\n",
    "print(weird_thing(dct))'''\n",
    "run_mypy(\"./weird_thing.py\")"
   ]
  },
  {
   "cell_type": "code",
   "execution_count": 10,
   "metadata": {},
   "outputs": [],
   "source": [
    "from typing import List\n",
    "dct: List = 'I am actually a string!'"
   ]
  },
  {
   "cell_type": "code",
   "execution_count": 11,
   "metadata": {
    "tags": []
   },
   "outputs": [
    {
     "output_type": "stream",
     "name": "stdout",
     "text": "wrong_typing.py:2: error: Incompatible types in assignment (expression has type \"str\", variable has type \"List[Any]\")\nFound 1 error in 1 file (checked 1 source file)\n\n"
    }
   ],
   "source": [
    "from typing import List\n",
    "dct: List = 'I am actually a string!'\n",
    "\n",
    "run_mypy('./wrong_typing.py')"
   ]
  },
  {
   "source": [
    "## Python 3 variable type annotation"
   ],
   "cell_type": "markdown",
   "metadata": {}
  },
  {
   "cell_type": "code",
   "execution_count": 14,
   "metadata": {
    "tags": []
   },
   "outputs": [
    {
     "output_type": "stream",
     "name": "stdout",
     "text": "{'Red': 0, 'Blue': 4, 'Purple': 90001}\n"
    }
   ],
   "source": [
    "from typing import Dict\n",
    "loved_colors: Dict = {\n",
    "    'Red': 0,\n",
    "    'Blue': 4,\n",
    "    'Purple': 90001\n",
    "    }\n",
    "print(loved_colors)"
   ]
  },
  {
   "source": [
    "## The **RIGHT** type annotation is to not annotate at all"
   ],
   "cell_type": "markdown",
   "metadata": {}
  },
  {
   "cell_type": "code",
   "execution_count": 12,
   "metadata": {
    "tags": []
   },
   "outputs": [
    {
     "output_type": "stream",
     "name": "stdout",
     "text": "{'Red': 0, 'Blue': 4, 'Purple': 90001}\n"
    }
   ],
   "source": [
    "loved_colors = {\n",
    "    'Red': 0,\n",
    "    'Blue': 4,\n",
    "    'Purple': 90001\n",
    "    }\n",
    "print(loved_colors)"
   ]
  },
  {
   "cell_type": "markdown",
   "metadata": {},
   "source": [
    "# Where problems start\n"
   ]
  },
  {
   "cell_type": "code",
   "execution_count": 16,
   "metadata": {},
   "outputs": [],
   "source": [
    "from typing import Dict, Optional\n",
    "class GetColors:\n",
    "    @classmethod\n",
    "    def loved_colors(cls) -> Optional[Dict]:\n",
    "        color_love_url = \"http://my-json-server.typicode.com/jochman/colors/love\"\n",
    "        if res := requests.get(color_love_url, verify=False).json():\n",
    "            return res\n",
    "        return None\n",
    "\n",
    "    @classmethod\n",
    "    def hated_colors(cls)-> Optional[Dict]:\n",
    "        color_love_url = \"http://my-json-server.typicode.com/jochman/colors/hate\"\n",
    "        if res := requests.get(color_love_url, verify=False).json():\n",
    "            return res\n",
    "        return None\n"
   ]
  },
  {
   "cell_type": "code",
   "execution_count": 15,
   "metadata": {
    "tags": []
   },
   "outputs": [
    {
     "output_type": "stream",
     "name": "stdout",
     "text": "dict_keys(['Red', 'Blue', 'Purple'])\nno_annotation.py:3: error: Item \"None\" of \"Optional[Dict[Any, Any]]\" has no attribute \"keys\"\nFound 1 error in 1 file (checked 1 source file)\n\n"
    }
   ],
   "source": [
    "loved_colors = GetColors.loved_colors()\n",
    "\n",
    "print(loved_colors.keys())\n",
    "\n",
    "run_mypy('./no_annotation.py')"
   ]
  },
  {
   "cell_type": "markdown",
   "metadata": {},
   "source": [
    "How does he knew what to do?\n",
    "\n",
    "MYPY sees: `def loved_colors() -> Optional[Dict]`\n",
    "\n",
    "So he knows that there're two options of return types: `[None, dict]`\n",
    "\n",
    "Then, he sees `loved_colors.keys()`. MYPY knows that `dict` type has the `keys` function, But `None` got nothing in it.\n",
    "\n",
    "#### Boom! an error!\n"
   ]
  },
  {
   "source": [
    "## Common case: The easy way"
   ],
   "cell_type": "markdown",
   "metadata": {}
  },
  {
   "source": [
    "loved_colors = GetColors.loved_colors()  # type: ignore\n",
    "\n",
    "print(loved_colors.items())\n",
    "run_mypy('./typeignore.py')"
   ],
   "cell_type": "code",
   "metadata": {
    "tags": []
   },
   "execution_count": 33,
   "outputs": [
    {
     "output_type": "stream",
     "name": "stdout",
     "text": "dict_items([('Red', 0), ('Blue', 4), ('Purple', 90001)])\nSuccess: no issues found in 1 source file\n\n"
    }
   ]
  },
  {
   "cell_type": "markdown",
   "metadata": {},
   "source": [
    "# `TYPE: IGNORE`? PANIC!\n",
    "![](https://media.giphy.com/media/KmTnUKop0AfFm/giphy.gif)"
   ]
  },
  {
   "cell_type": "code",
   "execution_count": 17,
   "metadata": {
    "tags": []
   },
   "outputs": [
    {
     "output_type": "stream",
     "name": "stdout",
     "text": "dict_keys(['Red', 'Blue', 'Purple'])\n"
    }
   ],
   "source": [
    "assert loved_colors is not None, 'Bad response from API'\n",
    "print(loved_colors.keys())\n"
   ]
  },
  {
   "cell_type": "code",
   "execution_count": 18,
   "metadata": {
    "tags": []
   },
   "outputs": [
    {
     "output_type": "stream",
     "name": "stdout",
     "text": "dict_keys(['Red', 'Blue', 'Purple'])\n"
    }
   ],
   "source": [
    "if loved_colors is None:\n",
    "    print('No colors, no love')\n",
    "else:\n",
    "    print(loved_colors.keys())"
   ]
  },
  {
   "cell_type": "markdown",
   "metadata": {
    "tags": []
   },
   "source": [
    "## More types and how to annotate them:"
   ]
  },
  {
   "cell_type": "code",
   "execution_count": 20,
   "metadata": {},
   "outputs": [
    {
     "output_type": "error",
     "ename": "TypeError",
     "evalue": "Optional[t] requires a single type. Got (typing.Dict, typing.List).",
     "traceback": [
      "\u001b[0;31m---------------------------------------------------------------------------\u001b[0m",
      "\u001b[0;31mTypeError\u001b[0m                                 Traceback (most recent call last)",
      "\u001b[0;32m<ipython-input-20-26135c298303>\u001b[0m in \u001b[0;36m<module>\u001b[0;34m\u001b[0m\n\u001b[1;32m     10\u001b[0m \u001b[0;31m# Some return types? we got you with Union\u001b[0m\u001b[0;34m\u001b[0m\u001b[0;34m\u001b[0m\u001b[0;34m\u001b[0m\u001b[0m\n\u001b[1;32m     11\u001b[0m \u001b[0;32mfrom\u001b[0m \u001b[0mtyping\u001b[0m \u001b[0;32mimport\u001b[0m \u001b[0mUnion\u001b[0m\u001b[0;34m\u001b[0m\u001b[0;34m\u001b[0m\u001b[0m\n\u001b[0;32m---> 12\u001b[0;31m \u001b[0mam_i_a_dict_or_list_or_none\u001b[0m\u001b[0;34m:\u001b[0m \u001b[0mOptional\u001b[0m\u001b[0;34m[\u001b[0m\u001b[0mDict\u001b[0m\u001b[0;34m,\u001b[0m \u001b[0mList\u001b[0m\u001b[0;34m]\u001b[0m\u001b[0;34m\u001b[0m\u001b[0;34m\u001b[0m\u001b[0m\n\u001b[0m",
      "\u001b[0;32m~/.pyenv/versions/3.8.0/lib/python3.8/typing.py\u001b[0m in \u001b[0;36minner\u001b[0;34m(*args, **kwds)\u001b[0m\n\u001b[1;32m    259\u001b[0m         \u001b[0;32mexcept\u001b[0m \u001b[0mTypeError\u001b[0m\u001b[0;34m:\u001b[0m\u001b[0;34m\u001b[0m\u001b[0;34m\u001b[0m\u001b[0m\n\u001b[1;32m    260\u001b[0m             \u001b[0;32mpass\u001b[0m  \u001b[0;31m# All real errors (not unhashable args) are raised below.\u001b[0m\u001b[0;34m\u001b[0m\u001b[0;34m\u001b[0m\u001b[0m\n\u001b[0;32m--> 261\u001b[0;31m         \u001b[0;32mreturn\u001b[0m \u001b[0mfunc\u001b[0m\u001b[0;34m(\u001b[0m\u001b[0;34m*\u001b[0m\u001b[0margs\u001b[0m\u001b[0;34m,\u001b[0m \u001b[0;34m**\u001b[0m\u001b[0mkwds\u001b[0m\u001b[0;34m)\u001b[0m\u001b[0;34m\u001b[0m\u001b[0;34m\u001b[0m\u001b[0m\n\u001b[0m\u001b[1;32m    262\u001b[0m     \u001b[0;32mreturn\u001b[0m \u001b[0minner\u001b[0m\u001b[0;34m\u001b[0m\u001b[0;34m\u001b[0m\u001b[0m\n\u001b[1;32m    263\u001b[0m \u001b[0;34m\u001b[0m\u001b[0m\n",
      "\u001b[0;32m~/.pyenv/versions/3.8.0/lib/python3.8/typing.py\u001b[0m in \u001b[0;36m__getitem__\u001b[0;34m(self, parameters)\u001b[0m\n\u001b[1;32m    362\u001b[0m             \u001b[0;32mreturn\u001b[0m \u001b[0m_GenericAlias\u001b[0m\u001b[0;34m(\u001b[0m\u001b[0mself\u001b[0m\u001b[0;34m,\u001b[0m \u001b[0mparameters\u001b[0m\u001b[0;34m)\u001b[0m\u001b[0;34m\u001b[0m\u001b[0;34m\u001b[0m\u001b[0m\n\u001b[1;32m    363\u001b[0m         \u001b[0;32mif\u001b[0m \u001b[0mself\u001b[0m\u001b[0;34m.\u001b[0m\u001b[0m_name\u001b[0m \u001b[0;34m==\u001b[0m \u001b[0;34m'Optional'\u001b[0m\u001b[0;34m:\u001b[0m\u001b[0;34m\u001b[0m\u001b[0;34m\u001b[0m\u001b[0m\n\u001b[0;32m--> 364\u001b[0;31m             \u001b[0marg\u001b[0m \u001b[0;34m=\u001b[0m \u001b[0m_type_check\u001b[0m\u001b[0;34m(\u001b[0m\u001b[0mparameters\u001b[0m\u001b[0;34m,\u001b[0m \u001b[0;34m\"Optional[t] requires a single type.\"\u001b[0m\u001b[0;34m)\u001b[0m\u001b[0;34m\u001b[0m\u001b[0;34m\u001b[0m\u001b[0m\n\u001b[0m\u001b[1;32m    365\u001b[0m             \u001b[0;32mreturn\u001b[0m \u001b[0mUnion\u001b[0m\u001b[0;34m[\u001b[0m\u001b[0marg\u001b[0m\u001b[0;34m,\u001b[0m \u001b[0mtype\u001b[0m\u001b[0;34m(\u001b[0m\u001b[0;32mNone\u001b[0m\u001b[0;34m)\u001b[0m\u001b[0;34m]\u001b[0m\u001b[0;34m\u001b[0m\u001b[0;34m\u001b[0m\u001b[0m\n\u001b[1;32m    366\u001b[0m         \u001b[0;32mif\u001b[0m \u001b[0mself\u001b[0m\u001b[0;34m.\u001b[0m\u001b[0m_name\u001b[0m \u001b[0;34m==\u001b[0m \u001b[0;34m'Literal'\u001b[0m\u001b[0;34m:\u001b[0m\u001b[0;34m\u001b[0m\u001b[0;34m\u001b[0m\u001b[0m\n",
      "\u001b[0;32m~/.pyenv/versions/3.8.0/lib/python3.8/typing.py\u001b[0m in \u001b[0;36m_type_check\u001b[0;34m(arg, msg, is_argument)\u001b[0m\n\u001b[1;32m    147\u001b[0m         \u001b[0;32mreturn\u001b[0m \u001b[0marg\u001b[0m\u001b[0;34m\u001b[0m\u001b[0;34m\u001b[0m\u001b[0m\n\u001b[1;32m    148\u001b[0m     \u001b[0;32mif\u001b[0m \u001b[0;32mnot\u001b[0m \u001b[0mcallable\u001b[0m\u001b[0;34m(\u001b[0m\u001b[0marg\u001b[0m\u001b[0;34m)\u001b[0m\u001b[0;34m:\u001b[0m\u001b[0;34m\u001b[0m\u001b[0;34m\u001b[0m\u001b[0m\n\u001b[0;32m--> 149\u001b[0;31m         \u001b[0;32mraise\u001b[0m \u001b[0mTypeError\u001b[0m\u001b[0;34m(\u001b[0m\u001b[0;34mf\"{msg} Got {arg!r:.100}.\"\u001b[0m\u001b[0;34m)\u001b[0m\u001b[0;34m\u001b[0m\u001b[0;34m\u001b[0m\u001b[0m\n\u001b[0m\u001b[1;32m    150\u001b[0m     \u001b[0;32mreturn\u001b[0m \u001b[0marg\u001b[0m\u001b[0;34m\u001b[0m\u001b[0;34m\u001b[0m\u001b[0m\n\u001b[1;32m    151\u001b[0m \u001b[0;34m\u001b[0m\u001b[0m\n",
      "\u001b[0;31mTypeError\u001b[0m: Optional[t] requires a single type. Got (typing.Dict, typing.List)."
     ]
    }
   ],
   "source": [
    "# Dicts and Lists: you can map the keys\\values types\n",
    "from typing import List, Dict\n",
    "french_wars: List[str]\n",
    "french_wars_starting_year: Dict[str, int]\n",
    "\n",
    "# What if something can be None? Use Optional!\n",
    "from typing import Optional\n",
    "phrase_of_the_day: Optional[str]\n",
    "\n",
    "# Some return types? we got you with Union\n",
    "from typing import Union\n",
    "am_i_a_dict_or_list_or_none: Union[Dict, List]\n",
    "\n",
    "# You can combine those\n",
    "kabya_sharkan_or_hazir_yaml: Optional[Union[Dict, List]]"
   ]
  },
  {
   "cell_type": "markdown",
   "metadata": {},
   "source": [
    "![](https://media.giphy.com/media/3oD3YveOJWdwIAfZ5e/giphy.gif)"
   ]
  }
 ]
}