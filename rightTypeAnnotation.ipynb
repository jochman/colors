{
 "cells": [
  {
   "cell_type": "code",
   "execution_count": 1,
   "metadata": {
    "slideshow": {
     "slide_type": "skip"
    }
   },
   "outputs": [],
   "source": [
    "import requests\n",
    "from mypy import api\n",
    "\n",
    "def run_mypy(file_path):\n",
    "    print(api.run([file_path])[0])"
   ]
  },
  {
   "cell_type": "markdown",
   "metadata": {
    "slideshow": {
     "slide_type": "slide"
    },
    "tags": []
   },
   "source": [
    "<center> <h1>The magic of Typed Python</h1>\n",
    "<img src=\"https://media.giphy.com/media/E6jscXfv3AkWQ/giphy.gif\"><img src=\"https://media.giphy.com/media/ws0sZhwes8l1K/giphy.gif\"></center>"
   ]
  },
  {
   "cell_type": "markdown",
   "metadata": {
    "slideshow": {
     "slide_type": "slide"
    }
   },
   "source": [
    "## What is type annotation?"
   ]
  },
  {
   "cell_type": "code",
   "execution_count": 2,
   "metadata": {
    "slideshow": {
     "slide_type": "subslide"
    }
   },
   "outputs": [],
   "source": [
    "from helper import swap\n",
    "def weird_thing(arg):\n",
    "    build = {}\n",
    "    for key, value in arg.items():\n",
    "        build = {}\n",
    "        build[key.upper()] = value.lower()\n",
    "    return swap(build)\n"
   ]
  },
  {
   "cell_type": "markdown",
   "metadata": {
    "slideshow": {
     "slide_type": "subslide"
    }
   },
   "source": [
    "# What??\n",
    "\n",
    "```2: def weird_thing(arg)``` -> <h3> What is **arg**?</h3>\n",
    "\n",
    "```6: return swap(build)``` -> <h3> What returned?</h3>"
   ]
  },
  {
   "cell_type": "markdown",
   "metadata": {
    "slideshow": {
     "slide_type": "subslide"
    }
   },
   "source": [
    "## Is docstring is enough?"
   ]
  },
  {
   "cell_type": "code",
   "execution_count": 3,
   "metadata": {
    "slideshow": {
     "slide_type": "subslide"
    }
   },
   "outputs": [],
   "source": [
    "from helper import swap\n",
    "def weird_thing(arg):\n",
    "    \"\"\"Get a dict and tranform its keys to upper and value lower. Then swapping key with values them.\n",
    "\n",
    "    Arguments:\n",
    "        arg: A dictionary to transform.\n",
    "    \n",
    "    Returns:\n",
    "        swapped dict with former keys to upper and values to lower.\n",
    "    \"\"\"\n",
    "    build = {}\n",
    "    for key, value in arg.items():\n",
    "        build[key.upper()] = value.lower()\n",
    "    return swap(build)"
   ]
  },
  {
   "cell_type": "markdown",
   "metadata": {
    "slideshow": {
     "slide_type": "subslide"
    }
   },
   "source": [
    "# IS THAT ENOUGH?!?!?!"
   ]
  },
  {
   "cell_type": "markdown",
   "metadata": {
    "slideshow": {
     "slide_type": "fragment"
    }
   },
   "source": [
    "![](https://media.giphy.com/media/YQk8nXloVftzW/giphy.gif)"
   ]
  },
  {
   "cell_type": "markdown",
   "metadata": {
    "slideshow": {
     "slide_type": "subslide"
    }
   },
   "source": [
    "## So what should we do?\n",
    "\n",
    "# REMOVE THE DOCSTRING\n",
    "\n",
    "\n",
    "<br><br><br><br>\n"
   ]
  },
  {
   "cell_type": "markdown",
   "metadata": {
    "slideshow": {
     "slide_type": "fragment"
    }
   },
   "source": [
    "![](https://media.giphy.com/media/PkoZpdQllFpXwJX6Tp/giphy.gif)"
   ]
  },
  {
   "cell_type": "code",
   "execution_count": 4,
   "metadata": {
    "slideshow": {
     "slide_type": "subslide"
    }
   },
   "outputs": [],
   "source": [
    "from typing import Dict\n",
    "from helper import swap\n",
    "def weird_thing(arg: Dict[str, str]) -> Dict:\n",
    "    \"\"\"Get a dict and tranform its keys to upper and value lower. Then swapping key with values them.\n",
    "\n",
    "    Arguments:\n",
    "        arg: A dictionary to transform.\n",
    "    \n",
    "    Returns:\n",
    "        swapped dict with former keys to upper and values to lower.\n",
    "    \"\"\"\n",
    "    build = {}\n",
    "    for key, value in arg.items():\n",
    "        build[key.upper()] = value.lower()\n",
    "    return swap(build)"
   ]
  },
  {
   "cell_type": "markdown",
   "metadata": {
    "slideshow": {
     "slide_type": "slide"
    }
   },
   "source": [
    "## Cool! what does python do with that information?\n",
    "### Well, lets see!"
   ]
  },
  {
   "cell_type": "code",
   "execution_count": 5,
   "metadata": {
    "slideshow": {
     "slide_type": "subslide"
    },
    "tags": []
   },
   "outputs": [
    {
     "name": "stdout",
     "output_type": "stream",
     "text": [
      "{'arbel': 'DEAN', 'orhov': 'YANA', 'hochman': 'BAR', '1': 'NUMBER??'}\n"
     ]
    }
   ],
   "source": [
    "dct = {\n",
    "    'Dean': 'Arbel',\n",
    "    'Yana': 'Orhov',\n",
    "    'Bar': 'Hochman',\n",
    "    'Number??': '1'\n",
    "}\n",
    "print(weird_thing(dct))"
   ]
  },
  {
   "cell_type": "markdown",
   "metadata": {
    "slideshow": {
     "slide_type": "subslide"
    }
   },
   "source": [
    "The dict is valid. what happens if it's not valid?"
   ]
  },
  {
   "cell_type": "code",
   "execution_count": 6,
   "metadata": {
    "slideshow": {
     "slide_type": "subslide"
    }
   },
   "outputs": [
    {
     "ename": "AttributeError",
     "evalue": "'int' object has no attribute 'lower'",
     "output_type": "error",
     "traceback": [
      "\u001b[0;31m---------------------------------------------------------------------------\u001b[0m",
      "\u001b[0;31mAttributeError\u001b[0m                            Traceback (most recent call last)",
      "\u001b[0;32m<ipython-input-6-d5ce6d60b376>\u001b[0m in \u001b[0;36m<module>\u001b[0;34m\u001b[0m\n\u001b[1;32m      5\u001b[0m     \u001b[0;34m'Number??'\u001b[0m\u001b[0;34m:\u001b[0m \u001b[0;36m0\u001b[0m\u001b[0;34m\u001b[0m\u001b[0;34m\u001b[0m\u001b[0m\n\u001b[1;32m      6\u001b[0m }\n\u001b[0;32m----> 7\u001b[0;31m \u001b[0mprint\u001b[0m\u001b[0;34m(\u001b[0m\u001b[0mweird_thing\u001b[0m\u001b[0;34m(\u001b[0m\u001b[0mdct\u001b[0m\u001b[0;34m)\u001b[0m\u001b[0;34m)\u001b[0m\u001b[0;34m\u001b[0m\u001b[0;34m\u001b[0m\u001b[0m\n\u001b[0m",
      "\u001b[0;32m<ipython-input-4-88071b540756>\u001b[0m in \u001b[0;36mweird_thing\u001b[0;34m(arg)\u001b[0m\n\u001b[1;32m     12\u001b[0m     \u001b[0mbuild\u001b[0m \u001b[0;34m=\u001b[0m \u001b[0;34m{\u001b[0m\u001b[0;34m}\u001b[0m\u001b[0;34m\u001b[0m\u001b[0;34m\u001b[0m\u001b[0m\n\u001b[1;32m     13\u001b[0m     \u001b[0;32mfor\u001b[0m \u001b[0mkey\u001b[0m\u001b[0;34m,\u001b[0m \u001b[0mvalue\u001b[0m \u001b[0;32min\u001b[0m \u001b[0marg\u001b[0m\u001b[0;34m.\u001b[0m\u001b[0mitems\u001b[0m\u001b[0;34m(\u001b[0m\u001b[0;34m)\u001b[0m\u001b[0;34m:\u001b[0m\u001b[0;34m\u001b[0m\u001b[0;34m\u001b[0m\u001b[0m\n\u001b[0;32m---> 14\u001b[0;31m         \u001b[0mbuild\u001b[0m\u001b[0;34m[\u001b[0m\u001b[0mkey\u001b[0m\u001b[0;34m.\u001b[0m\u001b[0mupper\u001b[0m\u001b[0;34m(\u001b[0m\u001b[0;34m)\u001b[0m\u001b[0;34m]\u001b[0m \u001b[0;34m=\u001b[0m \u001b[0mvalue\u001b[0m\u001b[0;34m.\u001b[0m\u001b[0mlower\u001b[0m\u001b[0;34m(\u001b[0m\u001b[0;34m)\u001b[0m\u001b[0;34m\u001b[0m\u001b[0;34m\u001b[0m\u001b[0m\n\u001b[0m\u001b[1;32m     15\u001b[0m     \u001b[0;32mreturn\u001b[0m \u001b[0mswap\u001b[0m\u001b[0;34m(\u001b[0m\u001b[0mbuild\u001b[0m\u001b[0;34m)\u001b[0m\u001b[0;34m\u001b[0m\u001b[0;34m\u001b[0m\u001b[0m\n",
      "\u001b[0;31mAttributeError\u001b[0m: 'int' object has no attribute 'lower'"
     ]
    }
   ],
   "source": [
    "dct = {\n",
    "    'Dean': 'Arbel',\n",
    "    'Yana': 'Orhov',\n",
    "    'Bar': 'Hochman',\n",
    "    'Number??': 0\n",
    "}\n",
    "print(weird_thing(dct))"
   ]
  },
  {
   "cell_type": "markdown",
   "metadata": {
    "slideshow": {
     "slide_type": "subslide"
    }
   },
   "source": [
    "So what python does with that problem?"
   ]
  },
  {
   "cell_type": "markdown",
   "metadata": {
    "slideshow": {
     "slide_type": "fragment"
    }
   },
   "source": [
    "![](https://media.giphy.com/media/baPIkfAo0Iv5K/giphy.gif)"
   ]
  },
  {
   "cell_type": "markdown",
   "metadata": {
    "slideshow": {
     "slide_type": "slide"
    }
   },
   "source": [
    "## If no one validates it, who cares?"
   ]
  },
  {
   "cell_type": "markdown",
   "metadata": {
    "slideshow": {
     "slide_type": "fragment"
    }
   },
   "source": [
    "# MYPY CARES\n",
    "![](https://camo.githubusercontent.com/68c7827eeb796f3a664f48f5657c04e65e04ae6e/687474703a2f2f6d7970792d6c616e672e6f72672f7374617469632f6d7970795f6c696768742e737667)"
   ]
  },
  {
   "cell_type": "code",
   "execution_count": 7,
   "metadata": {
    "slideshow": {
     "slide_type": "subslide"
    },
    "tags": []
   },
   "outputs": [
    {
     "name": "stdout",
     "output_type": "stream",
     "text": [
      "weird_thing.py:26: error: Argument 1 to \"weird_thing\" has incompatible type \"Dict[str, object]\"; expected \"Dict[str, str]\"\n",
      "Found 1 error in 1 file (checked 1 source file)\n",
      "\n"
     ]
    }
   ],
   "source": [
    "\"\"\"\n",
    "dct = {\n",
    "    'Dean': 'Arbel',\n",
    "    'Yana': 'Orhov',\n",
    "    'Bar': 'Hochman',\n",
    "    'Number??': 0\n",
    "}\n",
    "print(weird_thing(dct))\n",
    "\"\"\"\n",
    "run_mypy(\"./weird_thing.py\")"
   ]
  },
  {
   "cell_type": "code",
   "execution_count": 8,
   "metadata": {
    "slideshow": {
     "slide_type": "subslide"
    }
   },
   "outputs": [],
   "source": [
    "from typing import List\n",
    "dct: List = 'I am actually a string!'"
   ]
  },
  {
   "cell_type": "code",
   "execution_count": 9,
   "metadata": {
    "slideshow": {
     "slide_type": "fragment"
    },
    "tags": []
   },
   "outputs": [
    {
     "name": "stdout",
     "output_type": "stream",
     "text": [
      "wrong_typing.py:2: error: Incompatible types in assignment (expression has type \"str\", variable has type \"List[Any]\")\n",
      "Found 1 error in 1 file (checked 1 source file)\n",
      "\n"
     ]
    }
   ],
   "source": [
    "run_mypy('./wrong_typing.py')"
   ]
  },
  {
   "cell_type": "markdown",
   "metadata": {
    "slideshow": {
     "slide_type": "slide"
    }
   },
   "source": [
    "## How to annotate variables?"
   ]
  },
  {
   "cell_type": "code",
   "execution_count": 10,
   "metadata": {
    "slideshow": {
     "slide_type": "subslide"
    }
   },
   "outputs": [],
   "source": [
    "# Dicts and Lists: you can map the keys\\values types\n",
    "from typing import List, Dict\n",
    "french_wars: List[str]\n",
    "french_wars_starting_year: Dict[str, int]"
   ]
  },
  {
   "cell_type": "code",
   "execution_count": 11,
   "metadata": {
    "slideshow": {
     "slide_type": "subslide"
    }
   },
   "outputs": [],
   "source": [
    "# What if something can be None? Use Optional!\n",
    "from typing import Optional\n",
    "phrase_of_the_day: Optional[str]"
   ]
  },
  {
   "cell_type": "code",
   "execution_count": 12,
   "metadata": {
    "slideshow": {
     "slide_type": "subslide"
    }
   },
   "outputs": [],
   "source": [
    "# Some return types? we got you with Union\n",
    "from typing import Union, Dict, List\n",
    "dict_list: Union[Dict, List]"
   ]
  },
  {
   "cell_type": "code",
   "execution_count": 13,
   "metadata": {
    "slideshow": {
     "slide_type": "subslide"
    }
   },
   "outputs": [],
   "source": [
    "# You can combine those\n",
    "kabya_sharkan_or_hazir_yam: Union[Dict, List, str]"
   ]
  },
  {
   "cell_type": "markdown",
   "metadata": {
    "slideshow": {
     "slide_type": "fragment"
    }
   },
   "source": [
    "![](https://encrypted-tbn0.gstatic.com/images?q=tbn%3AANd9GcQHOnF0zmCUgqs2M6QWRPV_YlwzfLM4bN88MQ&usqp=CAU)"
   ]
  },
  {
   "cell_type": "code",
   "execution_count": 14,
   "metadata": {
    "slideshow": {
     "slide_type": "subslide"
    },
    "tags": []
   },
   "outputs": [
    {
     "name": "stdout",
     "output_type": "stream",
     "text": [
      "{'Red': 0, 'Blue': 4, 'Purple': 90001}\n"
     ]
    }
   ],
   "source": [
    "from typing import Dict\n",
    "loved_colors: Dict = {\n",
    "    'Red': 0,\n",
    "    'Blue': 4,\n",
    "    'Purple': 90001\n",
    "    }\n",
    "print(loved_colors)"
   ]
  },
  {
   "cell_type": "markdown",
   "metadata": {
    "slideshow": {
     "slide_type": "slide"
    }
   },
   "source": [
    "## The **RIGHT** type annotation is to not annotate at all"
   ]
  },
  {
   "cell_type": "code",
   "execution_count": 30,
   "metadata": {
    "slideshow": {
     "slide_type": "subslide"
    },
    "tags": []
   },
   "outputs": [
    {
     "name": "stdout",
     "output_type": "stream",
     "text": [
      "{'Red': 0, 'Blue': 4, 'Purple': 90001}\n"
     ]
    }
   ],
   "source": [
    "loved_colors = {\n",
    "    'Red': 0,\n",
    "    'Blue': 4,\n",
    "    'Purple': 90001\n",
    "    }\n",
    "print(loved_colors)"
   ]
  },
  {
   "cell_type": "markdown",
   "metadata": {
    "slideshow": {
     "slide_type": "slide"
    }
   },
   "source": [
    "# Where problems starts\n"
   ]
  },
  {
   "cell_type": "code",
   "execution_count": 16,
   "metadata": {
    "slideshow": {
     "slide_type": "fragment"
    }
   },
   "outputs": [],
   "source": [
    "from typing import Dict, Optional\n",
    "class GetColors:\n",
    "    @classmethod\n",
    "    def loved_colors(cls) -> Optional[Dict]:\n",
    "        color_love_url = \"http://my-json-server.typicode.com/jochman/colors/love\"\n",
    "        if res := requests.get(color_love_url, verify=False).json():\n",
    "            return res\n",
    "        return None"
   ]
  },
  {
   "cell_type": "code",
   "execution_count": 17,
   "metadata": {
    "slideshow": {
     "slide_type": "subslide"
    },
    "tags": []
   },
   "outputs": [
    {
     "name": "stdout",
     "output_type": "stream",
     "text": [
      "dict_keys(['Red', 'Blue', 'Purple'])\n",
      "no_annotation.py:3: error: Item \"None\" of \"Optional[Dict[Any, Any]]\" has no attribute \"keys\"\n",
      "Found 1 error in 1 file (checked 1 source file)\n",
      "\n"
     ]
    }
   ],
   "source": [
    "loved_colors = GetColors.loved_colors()\n",
    "\n",
    "print(loved_colors.keys())\n",
    "\n",
    "run_mypy('./no_annotation.py')"
   ]
  },
  {
   "cell_type": "markdown",
   "metadata": {
    "slideshow": {
     "slide_type": "subslide"
    }
   },
   "source": [
    "How does he knew what to do?\n",
    "\n",
    "MYPY sees: `def loved_colors() -> Optional[Dict]`\n",
    "\n",
    "So he knows that there're two options of return types: `[None, dict]`\n",
    "\n",
    "Then, he sees `loved_colors.keys()`. MYPY knows that `dict` type has the `keys` function, But `None` got nothing in it.\n",
    "\n",
    "#### Boom! an error!\n"
   ]
  },
  {
   "cell_type": "markdown",
   "metadata": {
    "slideshow": {
     "slide_type": "subslide"
    }
   },
   "source": [
    "## Common case: The easy way"
   ]
  },
  {
   "cell_type": "code",
   "execution_count": 18,
   "metadata": {
    "slideshow": {
     "slide_type": "fragment"
    },
    "tags": []
   },
   "outputs": [
    {
     "name": "stdout",
     "output_type": "stream",
     "text": [
      "dict_items([('Red', 0), ('Blue', 4), ('Purple', 90001)])\n",
      "Success: no issues found in 1 source file\n",
      "\n"
     ]
    }
   ],
   "source": [
    "loved_colors = GetColors.loved_colors()  # type: ignore\n",
    "\n",
    "print(loved_colors.items())\n",
    "run_mypy('./typeignore.py')"
   ]
  },
  {
   "cell_type": "markdown",
   "metadata": {
    "slideshow": {
     "slide_type": "subslide"
    }
   },
   "source": [
    "# `TYPE: IGNORE`? PANIC!\n",
    "![](https://media.giphy.com/media/KmTnUKop0AfFm/giphy.gif)"
   ]
  },
  {
   "cell_type": "markdown",
   "metadata": {
    "slideshow": {
     "slide_type": "subslide"
    }
   },
   "source": [
    "# How to *NOT* use the ignore"
   ]
  },
  {
   "cell_type": "code",
   "execution_count": 19,
   "metadata": {
    "slideshow": {
     "slide_type": "subslide"
    },
    "tags": []
   },
   "outputs": [
    {
     "name": "stdout",
     "output_type": "stream",
     "text": [
      "dict_keys(['Red', 'Blue', 'Purple'])\n"
     ]
    }
   ],
   "source": [
    "assert loved_colors is not None, 'Bad response from API'\n",
    "print(loved_colors.keys())\n"
   ]
  },
  {
   "cell_type": "code",
   "execution_count": 20,
   "metadata": {
    "slideshow": {
     "slide_type": "subslide"
    },
    "tags": []
   },
   "outputs": [
    {
     "name": "stdout",
     "output_type": "stream",
     "text": [
      "dict_keys(['Red', 'Blue', 'Purple'])\n"
     ]
    }
   ],
   "source": [
    "if loved_colors is None:\n",
    "    print('No colors, no love')\n",
    "else:\n",
    "    print(loved_colors.keys())"
   ]
  },
  {
   "cell_type": "markdown",
   "metadata": {
    "slideshow": {
     "slide_type": "slide"
    }
   },
   "source": [
    "# Errors"
   ]
  },
  {
   "cell_type": "code",
   "execution_count": 22,
   "metadata": {
    "slideshow": {
     "slide_type": "subslide"
    }
   },
   "outputs": [
    {
     "name": "stdout",
     "output_type": "stream",
     "text": [
      "x\n"
     ]
    },
    {
     "ename": "AttributeError",
     "evalue": "'Resource' object has no attribute 'id'",
     "output_type": "error",
     "traceback": [
      "\u001b[0;31m---------------------------------------------------------------------------\u001b[0m",
      "\u001b[0;31mAttributeError\u001b[0m                            Traceback (most recent call last)",
      "\u001b[0;32m<ipython-input-22-9ab840d0a7d2>\u001b[0m in \u001b[0;36m<module>\u001b[0;34m\u001b[0m\n\u001b[1;32m      7\u001b[0m \u001b[0mr\u001b[0m \u001b[0;34m=\u001b[0m \u001b[0mResource\u001b[0m\u001b[0;34m(\u001b[0m\u001b[0;34m'x'\u001b[0m\u001b[0;34m)\u001b[0m\u001b[0;34m\u001b[0m\u001b[0;34m\u001b[0m\u001b[0m\n\u001b[1;32m      8\u001b[0m \u001b[0mprint\u001b[0m\u001b[0;34m(\u001b[0m\u001b[0mr\u001b[0m\u001b[0;34m.\u001b[0m\u001b[0mname\u001b[0m\u001b[0;34m)\u001b[0m  \u001b[0;31m# OK\u001b[0m\u001b[0;34m\u001b[0m\u001b[0;34m\u001b[0m\u001b[0m\n\u001b[0;32m----> 9\u001b[0;31m \u001b[0mprint\u001b[0m\u001b[0;34m(\u001b[0m\u001b[0mr\u001b[0m\u001b[0;34m.\u001b[0m\u001b[0mid\u001b[0m\u001b[0;34m)\u001b[0m  \u001b[0;31m# Error: \"Resource\" has no attribute \"id\"  [attr-defined]\u001b[0m\u001b[0;34m\u001b[0m\u001b[0;34m\u001b[0m\u001b[0m\n\u001b[0m",
      "\u001b[0;31mAttributeError\u001b[0m: 'Resource' object has no attribute 'id'"
     ]
    }
   ],
   "source": [
    "# Error: attr-defined\n",
    "\n",
    "class Resource:\n",
    "    def __init__(self, name: str) -> None:\n",
    "        self.name = name\n",
    "\n",
    "r = Resource('x')\n",
    "print(r.name)  # OK\n",
    "print(r.id)  # Error: \"Resource\" has no attribute \"id\"  [attr-defined]"
   ]
  },
  {
   "cell_type": "code",
   "execution_count": 23,
   "metadata": {
    "slideshow": {
     "slide_type": "subslide"
    }
   },
   "outputs": [
    {
     "name": "stdout",
     "output_type": "stream",
     "text": [
      "I forgot my ID at home.\n"
     ]
    }
   ],
   "source": [
    "# is id exists?\n",
    "if hasattr(r, 'id'):\n",
    "    print('One beer please!')\n",
    "else:\n",
    "    print('I forgot my ID at home.')\n",
    "    \n",
    "    \n",
    "    "
   ]
  },
  {
   "cell_type": "code",
   "execution_count": 24,
   "metadata": {
    "slideshow": {
     "slide_type": "fragment"
    }
   },
   "outputs": [
    {
     "name": "stdout",
     "output_type": "stream",
     "text": [
      "I'm 18, Please give me beer\n"
     ]
    }
   ],
   "source": [
    "# try/except\n",
    "try:\n",
    "    r.id = 18\n",
    "    print('I\\'m 18, Please give me beer')\n",
    "except AttributeError:\n",
    "    print('*Running away*')"
   ]
  },
  {
   "cell_type": "code",
   "execution_count": 25,
   "metadata": {
    "slideshow": {
     "slide_type": "subslide"
    }
   },
   "outputs": [
    {
     "name": "stdout",
     "output_type": "stream",
     "text": [
      "This is a command\n"
     ]
    }
   ],
   "source": [
    "# Error: operator\n",
    "def do_command():\n",
    "    print(\"This is a command\")\n",
    "\n",
    "commands = {\n",
    "    'run-command': do_command\n",
    "}\n",
    "\n",
    "command = 'run-command'\n",
    "commands[command]() # error: Cannot call function of unknown type  [operator]"
   ]
  },
  {
   "cell_type": "code",
   "execution_count": 26,
   "metadata": {
    "slideshow": {
     "slide_type": "fragment"
    }
   },
   "outputs": [
    {
     "name": "stdout",
     "output_type": "stream",
     "text": [
      "This is a command\n"
     ]
    }
   ],
   "source": [
    "from typing import Callable\n",
    "\n",
    "\n",
    "def do_command():\n",
    "    print(\"This is a command\")\n",
    "\n",
    "commands: Dict[str, Callable] = {\n",
    "    'run-command': do_command\n",
    "}\n",
    "\n",
    "command = 'run-command'\n",
    "commands[command]()"
   ]
  },
  {
   "cell_type": "code",
   "execution_count": 27,
   "metadata": {
    "slideshow": {
     "slide_type": "subslide"
    }
   },
   "outputs": [
    {
     "name": "stdout",
     "output_type": "stream",
     "text": [
      "5\n"
     ]
    }
   ],
   "source": [
    "# Error: arg-type\n",
    "from typing import List\n",
    "\n",
    "def first(x: List[int]) -> int:\n",
    "     return x[0] if x else 0\n",
    "\n",
    "t = (5, 4)\n",
    "# Error: Argument 1 to \"first\" has incompatible type \"Tuple[int, int]\";\n",
    "#        expected \"List[int]\"  [arg-type]\n",
    "print(first(t))"
   ]
  },
  {
   "cell_type": "code",
   "execution_count": 28,
   "metadata": {
    "slideshow": {
     "slide_type": "fragment"
    }
   },
   "outputs": [
    {
     "name": "stdout",
     "output_type": "stream",
     "text": [
      "5\n"
     ]
    }
   ],
   "source": [
    "# If we can control the `first` function.\n",
    "from typing import Iterable\n",
    "\n",
    "def first(x: Iterable[int]) -> int:\n",
    "     return x[0] if x else 0\n",
    "\n",
    "t = (5, 4)\n",
    "print(first(t))"
   ]
  },
  {
   "cell_type": "code",
   "execution_count": 32,
   "metadata": {
    "slideshow": {
     "slide_type": "fragment"
    }
   },
   "outputs": [
    {
     "name": "stdout",
     "output_type": "stream",
     "text": [
      "5\n"
     ]
    }
   ],
   "source": [
    "# If we do not control the `first` function\n",
    "t = (5, 4)\n",
    "\n",
    "t_list = list(t)\n",
    "\n",
    "print(first(t_list))"
   ]
  },
  {
   "cell_type": "markdown",
   "metadata": {
    "slideshow": {
     "slide_type": "slide"
    }
   },
   "source": [
    "![](https://media.giphy.com/media/3oD3YveOJWdwIAfZ5e/giphy.gif)"
   ]
  }
 ],
 "metadata": {
  "celltoolbar": "Slideshow",
  "kernelspec": {
   "display_name": "Python 3.8.0 64-bit ('3.8.0': pyenv)",
   "language": "python",
   "name": "python38064bit380pyenv8067fa38f6614d5791b869a3b16cc6d9"
  },
  "language_info": {
   "codemirror_mode": {
    "name": "ipython",
    "version": 3
   },
   "file_extension": ".py",
   "mimetype": "text/x-python",
   "name": "python",
   "nbconvert_exporter": "python",
   "pygments_lexer": "ipython3",
   "version": "3.8.0"
  }
 },
 "nbformat": 4,
 "nbformat_minor": 2
}
