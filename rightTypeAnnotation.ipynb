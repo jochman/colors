{
 "metadata": {
  "language_info": {
   "codemirror_mode": {
    "name": "ipython",
    "version": 3
   },
   "file_extension": ".py",
   "mimetype": "text/x-python",
   "name": "python",
   "nbconvert_exporter": "python",
   "pygments_lexer": "ipython3",
   "version": "3.8.0-final"
  },
  "orig_nbformat": 2,
  "kernelspec": {
   "name": "python_defaultSpec_1600155397638",
   "display_name": "Python 3.8.5 32-bit"
  }
 },
 "nbformat": 4,
 "nbformat_minor": 2,
 "cells": [
  {
   "source": [
    "## Python 2 type annotation"
   ],
   "cell_type": "markdown",
   "metadata": {}
  },
  {
   "cell_type": "code",
   "execution_count": 2,
   "metadata": {
    "tags": []
   },
   "outputs": [
    {
     "output_type": "stream",
     "name": "stdout",
     "text": "{'Red': 0, 'Blue': 4, 'Purple': 90001}\n"
    }
   ],
   "source": [
    "color_love_dict = {\n",
    "    'Red': 0,\n",
    "    'Blue': 4,\n",
    "    'Purple': 90001\n",
    "    }  # type: dict\n",
    "print(color_love_dict)"
   ]
  },
  {
   "source": [
    "## Python 3 type annotation"
   ],
   "cell_type": "markdown",
   "metadata": {}
  },
  {
   "cell_type": "code",
   "execution_count": 5,
   "metadata": {
    "tags": []
   },
   "outputs": [
    {
     "output_type": "stream",
     "name": "stdout",
     "text": "{'Red': 0, 'Blue': 4, 'Purple': 90001}\n"
    }
   ],
   "source": [
    "from typing import Dict\n",
    "color_love_dict: Dict = {\n",
    "    'Red': 0,\n",
    "    'Blue': 4,\n",
    "    'Purple': 90001\n",
    "    }\n",
    "print(color_love_dict)"
   ]
  },
  {
   "source": [
    "## The **RIGHT** type annotation is to not annotate at all"
   ],
   "cell_type": "markdown",
   "metadata": {}
  },
  {
   "cell_type": "code",
   "execution_count": 6,
   "metadata": {
    "tags": []
   },
   "outputs": [
    {
     "output_type": "stream",
     "name": "stdout",
     "text": "{'Red': 0, 'Blue': 4, 'Purple': 90001}\n"
    }
   ],
   "source": [
    "color_love_dict = {\n",
    "    'Red': 0,\n",
    "    'Blue': 4,\n",
    "    'Purple': 90001\n",
    "    }\n",
    "print(color_love_dict)"
   ]
  },
  {
   "source": [
    "### Setup"
   ],
   "cell_type": "markdown",
   "metadata": {}
  },
  {
   "cell_type": "code",
   "execution_count": 3,
   "metadata": {},
   "outputs": [],
   "source": [
    "import requests\n",
    "from mypy import api\n",
    "\n",
    "from api_call import GetColors\n",
    "\n",
    "def run_mypy(file_path):\n",
    "    print(api.run([file_path])[0])"
   ]
  },
  {
   "source": [
    "# Where problem starts\n"
   ],
   "cell_type": "markdown",
   "metadata": {}
  },
  {
   "cell_type": "code",
   "execution_count": 5,
   "metadata": {
    "tags": []
   },
   "outputs": [
    {
     "output_type": "stream",
     "name": "stdout",
     "text": "dict_keys(['Red', 'Blue', 'Purple'])\n"
    }
   ],
   "source": [
    "from api_call import GetColors\n",
    "\n",
    "loved_colors = GetColors.loved_colors()\n",
    "\n",
    "print(loved_colors.keys())"
   ]
  },
  {
   "cell_type": "code",
   "execution_count": 6,
   "metadata": {
    "tags": []
   },
   "outputs": [
    {
     "output_type": "stream",
     "name": "stdout",
     "text": "no_annotation.py:3: error: Item \"None\" of \"Optional[Dict[Any, Any]]\" has no attribute \"keys\"\nFound 1 error in 1 file (checked 1 source file)\n\n"
    }
   ],
   "source": [
    "print(run_mypy('./no_annotation.py'))"
   ]
  },
  {
   "source": [
    "## Common case"
   ],
   "cell_type": "markdown",
   "metadata": {}
  },
  {
   "source": [
    "loved_colors = GetColors.loved_colors()  # type: ignore\n",
    "\n",
    "print(loved_colors.items())"
   ],
   "cell_type": "code",
   "metadata": {
    "tags": []
   },
   "execution_count": 8,
   "outputs": [
    {
     "output_type": "stream",
     "name": "stdout",
     "text": "dict_items([('Red', 0), ('Blue', 4), ('Purple', 90001)])\n"
    }
   ]
  },
  {
   "cell_type": "code",
   "execution_count": 9,
   "metadata": {
    "tags": []
   },
   "outputs": [
    {
     "output_type": "stream",
     "name": "stdout",
     "text": "Success: no issues found in 1 source file\n\n"
    }
   ],
   "source": [
    "print(run_mypy('./typeignore.py'))"
   ]
  },
  {
   "cell_type": "code",
   "execution_count": 10,
   "metadata": {
    "tags": []
   },
   "outputs": [
    {
     "output_type": "stream",
     "name": "stdout",
     "text": "dict_keys(['Red', 'Blue', 'Purple'])\n"
    }
   ],
   "source": [
    "assert loved_colors is not None, 'Bad response from API'\n",
    "print(loved_colors.keys())\n"
   ]
  },
  {
   "cell_type": "code",
   "execution_count": 11,
   "metadata": {
    "tags": []
   },
   "outputs": [
    {
     "output_type": "stream",
     "name": "stdout",
     "text": "dict_keys(['Red', 'Blue', 'Purple'])\n"
    }
   ],
   "source": [
    "if loved_colors is None:\n",
    "    print('No colors, no love')\n",
    "else:\n",
    "    print(loved_colors.keys())"
   ]
  },
  {
   "cell_type": "code",
   "execution_count": null,
   "metadata": {},
   "outputs": [],
   "source": []
  }
 ]
}