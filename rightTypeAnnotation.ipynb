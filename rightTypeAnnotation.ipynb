{
 "metadata": {
  "language_info": {
   "codemirror_mode": {
    "name": "ipython",
    "version": 3
   },
   "file_extension": ".py",
   "mimetype": "text/x-python",
   "name": "python",
   "nbconvert_exporter": "python",
   "pygments_lexer": "ipython3",
   "version": "3.8.5-final"
  },
  "orig_nbformat": 2,
  "kernelspec": {
   "name": "python_defaultSpec_1599907534174",
   "display_name": "Python 3.8.5 32-bit"
  }
 },
 "nbformat": 4,
 "nbformat_minor": 2,
 "cells": [
  {
   "source": [
    "# Python 2 type annotation"
   ],
   "cell_type": "markdown",
   "metadata": {}
  },
  {
   "cell_type": "code",
   "execution_count": 2,
   "metadata": {
    "tags": []
   },
   "outputs": [
    {
     "output_type": "stream",
     "name": "stdout",
     "text": "{'Red': 0, 'Blue': 4, 'Purple': 90001}\n"
    }
   ],
   "source": [
    "color_love_dict = {\n",
    "    'Red': 0,\n",
    "    'Blue': 4,\n",
    "    'Purple': 90001\n",
    "    }  # type: dict\n",
    "print(color_love_dict)"
   ]
  },
  {
   "source": [
    "# Python 3 type annotation"
   ],
   "cell_type": "markdown",
   "metadata": {}
  },
  {
   "cell_type": "code",
   "execution_count": 5,
   "metadata": {
    "tags": []
   },
   "outputs": [
    {
     "output_type": "stream",
     "name": "stdout",
     "text": "{'Red': 0, 'Blue': 4, 'Purple': 90001}\n"
    }
   ],
   "source": [
    "from typing import Dict\n",
    "color_love_dict: Dict = {\n",
    "    'Red': 0,\n",
    "    'Blue': 4,\n",
    "    'Purple': 90001\n",
    "    }\n",
    "print(color_love_dict)"
   ]
  },
  {
   "source": [
    "## The **RIGHT** type annotation is to not annotate at all"
   ],
   "cell_type": "markdown",
   "metadata": {}
  },
  {
   "cell_type": "code",
   "execution_count": 6,
   "metadata": {
    "tags": []
   },
   "outputs": [
    {
     "output_type": "stream",
     "name": "stdout",
     "text": "{'Red': 0, 'Blue': 4, 'Purple': 90001}\n"
    }
   ],
   "source": [
    "color_love_dict = {\n",
    "    'Red': 0,\n",
    "    'Blue': 4,\n",
    "    'Purple': 90001\n",
    "    }\n",
    "print(color_love_dict)"
   ]
  },
  {
   "source": [
    "### Setup"
   ],
   "cell_type": "markdown",
   "metadata": {}
  },
  {
   "cell_type": "code",
   "execution_count": 12,
   "metadata": {},
   "outputs": [],
   "source": [
    "import requests\n",
    "from mypy import api\n",
    "\n",
    "\n",
    "def get_color_love():\n",
    "    color_love_url = \"http://my-json-server.typicode.com/jochman/colors/love\"\n",
    "    if res := requests.get(color_love_url, verify=False).json():\n",
    "        return res \n",
    "    return None\n",
    "\n",
    "def get_color_hate():\n",
    "    color_love_url = \"http://my-json-server.typicode.com/jochman/colors/love\"\n",
    "    if res := requests.get(color_love_url, verify=False).json():\n",
    "        return res \n",
    "    return None"
   ]
  },
  {
   "source": [
    "# Where problem starts\n"
   ],
   "cell_type": "markdown",
   "metadata": {}
  },
  {
   "cell_type": "code",
   "execution_count": 5,
   "metadata": {
    "tags": []
   },
   "outputs": [
    {
     "output_type": "stream",
     "name": "stdout",
     "text": "dict_items([('Red', 0), ('Blue', 4), ('Purple', 90001)])\n"
    }
   ],
   "source": [
    "color_love_dict = get_color_love()\n",
    "\n",
    "print(color_love_dict.items())"
   ]
  },
  {
   "cell_type": "code",
   "execution_count": 11,
   "metadata": {
    "tags": []
   },
   "outputs": [
    {
     "output_type": "stream",
     "name": "stdout",
     "text": "no_annotation.py:3: error: Item \"None\" of \"Optional[Dict[Any, Any]]\" has no attribute \"keys\"\nFound 1 error in 1 file (checked 1 source file)\n\n"
    }
   ],
   "source": [
    "print(api.run(['./no_annotation.py'])[0])"
   ]
  },
  {
   "source": [
    "## Common case"
   ],
   "cell_type": "markdown",
   "metadata": {}
  },
  {
   "source": [
    "color_love_dict = get_color_love()  # type: ignore\n",
    "\n",
    "print(color_love_dict.items())"
   ],
   "cell_type": "code",
   "metadata": {
    "tags": []
   },
   "execution_count": 9,
   "outputs": [
    {
     "output_type": "stream",
     "name": "stdout",
     "text": "b''\n"
    }
   ]
  },
  {
   "cell_type": "code",
   "execution_count": null,
   "metadata": {},
   "outputs": [],
   "source": [
    "print(api.run(['./typeignore.py'])[0])"
   ]
  }
 ]
}